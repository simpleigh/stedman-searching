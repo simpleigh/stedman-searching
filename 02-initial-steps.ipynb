{
 "cells": [
  {
   "cell_type": "markdown",
   "metadata": {},
   "source": [
    "# 02 Initial steps"
   ]
  },
  {
   "cell_type": "markdown",
   "metadata": {},
   "source": [
    "## Six-pairs\n",
    "\n",
    "Stedman's pattern of alternating quick and slow sixes makes it awkward to work with. Let's instead combine pairs of sixes together. Each six-pair can have the following calling structure:\n",
    "\n",
    "|   | Call 1 | Call 2 | Row (from rounds) | Permutation             |\n",
    "| -:|:------:|:------:|:-----------------:|:----------------------- |\n",
    "| 1 | p      | p      | `2467153`         | `(0, 1, 3, 6, 2, 5, 4)` |\n",
    "| 2 | p      | `-`    | `2463175`         | `(0, 1, 3, 2, 5, 6, 4)` |\n",
    "| 3 | p      | `s`    | `2463157`         | `(6)(0, 1, 3, 2, 5, 4)` |\n",
    "| 4 | `-`    | p      | `2456173`         | `(0, 1, 3, 5, 6, 2, 4)` |\n",
    "| 5 | `-`    | `-`    | `2453167`         | `(6)(0, 1, 3, 2, 4)`    |\n",
    "| 6 | `-`    | `s`    | `2453176`         | `(0, 1, 3, 2, 4)(5, 6)` |\n",
    "| 7 | `s`    | p      | `2457163`         | `(0, 1, 3, 6, 2, 4)`    |\n",
    "| 8 | `s`    | `-`    | `2453176`         | `(0, 1, 3, 2, 4)(5, 6)` |\n",
    "| 9 | `s`    | `s`    | `2453167`         | `(6)(0, 1, 3, 2, 4)`    |\n",
    "\n",
    "Some permutations in this list are duplicated:\n",
    "\n",
    "* `--` reaches the same permutation as `ss` (ringers prefer `--`)\n",
    "* `-s` reaches the same place as `s-` (ringers prefer `s-`)\n",
    "\n",
    "... we can therefore immediately discard cases *6* and *9* above."
   ]
  },
  {
   "cell_type": "markdown",
   "metadata": {},
   "source": [
    "## Where can we reach?\n",
    "\n",
    "Let's start with rounds and see where we can get to. I've created a `perm_from_row` helper function that converts to a [`sympy`](https://docs.sympy.org/latest/index.html) [`Permutation`](https://docs.sympy.org/latest/modules/combinatorics/permutations.html)."
   ]
  },
  {
   "cell_type": "code",
   "execution_count": 62,
   "metadata": {
    "scrolled": true
   },
   "outputs": [
    {
     "data": {
      "text/plain": [
       "[Permutation([1, 3, 5, 6, 0, 4, 2]),\n",
       " Permutation([1, 3, 5, 2, 0, 6, 4]),\n",
       " Permutation([1, 3, 5, 2, 0, 4, 6]),\n",
       " Permutation([1, 3, 4, 5, 0, 6, 2]),\n",
       " Permutation([1, 3, 4, 2, 0, 5, 6]),\n",
       " Permutation([1, 3, 4, 6, 0, 5, 2]),\n",
       " Permutation([1, 3, 4, 2, 0, 6, 5])]"
      ]
     },
     "execution_count": 62,
     "metadata": {},
     "output_type": "execute_result"
    }
   ],
   "source": [
    "from stedman_searching.rows import perm_from_row\n",
    "\n",
    "PAIR_END_ROWS = [\n",
    "    '2467153',  # 1. pp\n",
    "    '2463175',  # 2. p-\n",
    "    '2463157',  # 3. ps\n",
    "    '2456173',  # 4. -p\n",
    "    '2453167',  # 5. --\n",
    "    '2457163',  # 7. sp\n",
    "    '2453176',  # 8. s-\n",
    "]\n",
    "\n",
    "PAIR_END_PERMS = [perm_from_row(row) for row in PAIR_END_ROWS]\n",
    "\n",
    "PAIR_END_PERMS"
   ]
  },
  {
   "cell_type": "markdown",
   "metadata": {},
   "source": [
    "A permutation can be combined with another one via multiplication. Let's apply these permutations to rounds and convert back to rows so we can check everything's working."
   ]
  },
  {
   "cell_type": "code",
   "execution_count": 63,
   "metadata": {},
   "outputs": [
    {
     "data": {
      "text/plain": [
       "['2467153', '2463175', '2463157', '2456173', '2453167', '2457163', '2453176']"
      ]
     },
     "execution_count": 63,
     "metadata": {},
     "output_type": "execute_result"
    }
   ],
   "source": [
    "from stedman_searching.rows import row_from_perm\n",
    "from sympy.combinatorics import Permutation\n",
    "\n",
    "rounds = Permutation(6)\n",
    "\n",
    "[row_from_perm(perm * rounds) for perm in PAIR_END_PERMS]"
   ]
  },
  {
   "cell_type": "markdown",
   "metadata": {},
   "source": [
    "Change ringers should note that the `*` operator doesn't behave as we would expect when multiplying rows:\n",
    "\n",
    "> The product of two permutations `p` and `q` is defined as their composition as functions, `(p*q)(i) = q(p(i))`.\n",
    "\n",
    "Here's how we usually think of multiplying two rows:\n",
    "\n",
    "```\n",
    "  2413\n",
    "× 3412\n",
    "  ────\n",
    "  1324\n",
    "  ────\n",
    "```\n",
    "\n",
    "Here's how it works with `Permutation`:"
   ]
  },
  {
   "cell_type": "code",
   "execution_count": 64,
   "metadata": {},
   "outputs": [
    {
     "name": "stdout",
     "output_type": "stream",
     "text": [
      "Incorrect: 4231\n",
      "Correct: 1324\n"
     ]
    }
   ],
   "source": [
    "Permutation.print_cyclic = False\n",
    "\n",
    "row1 = Permutation(perm_from_row('2413'))\n",
    "row2 = Permutation(perm_from_row('3412'))\n",
    "\n",
    "print('Incorrect:', row_from_perm(row1 * row2))\n",
    "print('Correct:',   row_from_perm(row2 * row1))"
   ]
  },
  {
   "cell_type": "markdown",
   "metadata": {},
   "source": [
    "Let's generate the \"six-pair ends\" for a plain course of Stedman and check these match what we expect."
   ]
  },
  {
   "cell_type": "code",
   "execution_count": 65,
   "metadata": {},
   "outputs": [
    {
     "name": "stdout",
     "output_type": "stream",
     "text": [
      "3467251\n",
      "4751326\n",
      "7126435\n",
      "1635742\n",
      "6542173\n",
      "5273614\n",
      "2314567\n"
     ]
    }
   ],
   "source": [
    "starting_row = perm_from_row('2314567')\n",
    "plain_plain_pair = perm_from_row('2467153')\n",
    "\n",
    "row = starting_row\n",
    "for _ in range(7):\n",
    "    row = plain_plain_pair * row\n",
    "    print(row_from_perm(row))"
   ]
  },
  {
   "cell_type": "markdown",
   "metadata": {},
   "source": [
    "After one six-pair we can reach any of seven rows when starting from rounds. Starting at each of those rows we can apply the same seven permutations in order to find the rows we can reach after two six-pairs."
   ]
  },
  {
   "cell_type": "code",
   "execution_count": 66,
   "metadata": {},
   "outputs": [
    {
     "data": {
      "text/plain": [
       "['4751326',\n",
       " '4756312',\n",
       " '4756321',\n",
       " '4725316',\n",
       " '4726351',\n",
       " '4721356',\n",
       " '4726315',\n",
       " '4175326',\n",
       " '4176352',\n",
       " '4176325',\n",
       " '4127356',\n",
       " '4126375',\n",
       " '4125376',\n",
       " '4126357',\n",
       " '4157326',\n",
       " '4156372',\n",
       " '4156327',\n",
       " '4125376',\n",
       " '4126357',\n",
       " '4127356',\n",
       " '4126375',\n",
       " '4671325',\n",
       " '4675312',\n",
       " '4675321',\n",
       " '4627315',\n",
       " '4625371',\n",
       " '4621375',\n",
       " '4625317',\n",
       " '4167325',\n",
       " '4165372',\n",
       " '4165327',\n",
       " '4126375',\n",
       " '4125367',\n",
       " '4127365',\n",
       " '4125376',\n",
       " '4761325',\n",
       " '4765312',\n",
       " '4765321',\n",
       " '4726315',\n",
       " '4725361',\n",
       " '4721365',\n",
       " '4725316',\n",
       " '4176325',\n",
       " '4175362',\n",
       " '4175326',\n",
       " '4127365',\n",
       " '4125376',\n",
       " '4126375',\n",
       " '4125367']"
      ]
     },
     "execution_count": 66,
     "metadata": {},
     "output_type": "execute_result"
    }
   ],
   "source": [
    "[\n",
    "    row_from_perm(second_perm * first_perm * starting_row)\n",
    "    for first_perm in PAIR_END_PERMS\n",
    "    for second_perm in PAIR_END_PERMS\n",
    "]"
   ]
  },
  {
   "cell_type": "markdown",
   "metadata": {},
   "source": [
    "Et voilà... 49 rows. Again we see that some of these rows are duplicated for the same reasons as above, but with pairs of calls occurring *between* the pairs of sixes:\n",
    "\n",
    "```\n",
    "  p-sp          p-s-\n",
    "= ps-p        = ps--\n",
    "```\n",
    "\n",
    "... because `-s` = `s-`\n",
    "\n",
    "```\n",
    "  pssp          pss-\n",
    "= p--p        = p---\n",
    "```\n",
    "\n",
    "... because `--` = `ss`\n",
    "\n",
    "```\n",
    "  --sp          --s-          s-sp          s-s-\n",
    "= s--p        = s---        = ---p        = ----\n",
    "```\n",
    "\n",
    "... because these rules can be applied multiple times, e.g.: `s-s` → `ss-` → `---`. Accounting for the eight cases above we should have 41 distinct rows reachable within two six-pairs."
   ]
  },
  {
   "cell_type": "code",
   "execution_count": 67,
   "metadata": {},
   "outputs": [
    {
     "data": {
      "text/plain": [
       "35"
      ]
     },
     "execution_count": 67,
     "metadata": {},
     "output_type": "execute_result"
    }
   ],
   "source": [
    "rows = [\n",
    "    row_from_perm(second_perm * first_perm * starting_row)\n",
    "    for first_perm in PAIR_END_PERMS\n",
    "    for second_perm in PAIR_END_PERMS\n",
    "]\n",
    "\n",
    "len(set(rows))"
   ]
  },
  {
   "cell_type": "markdown",
   "metadata": {},
   "source": [
    "It actually turns out that this isn't the case on seven bells (Stedman *Triples*). Individual bells traverse the row so quickly that they can be affected repeatedly by calls. On larger numbers of bells we see the expected result: 41 rows."
   ]
  },
  {
   "cell_type": "markdown",
   "metadata": {},
   "source": [
    "## Let's go deeper!\n",
    "\n",
    "There are `5040` available rows on seven bells (7 *factorial* or `7!`), and so far we've only covered 36 of them. Let's go a little deeper. Let's continue using Python `set`s to eliminate duplicates, and build a function that can generate the set of results on the next stage."
   ]
  },
  {
   "cell_type": "code",
   "execution_count": 89,
   "metadata": {},
   "outputs": [
    {
     "data": {
      "text/plain": [
       "{'2453167', '2453176', '2456173', '2457163', '2463157', '2463175', '2467153'}"
      ]
     },
     "execution_count": 89,
     "metadata": {},
     "output_type": "execute_result"
    }
   ],
   "source": [
    "def generate_next_rows(previous_rows):\n",
    "    previous_perms = [perm_from_row(row) for row in previous_rows]\n",
    "    return set([\n",
    "        row_from_perm(pair_end_perm * previous_perm)\n",
    "        for previous_perm in previous_perms\n",
    "        for pair_end_perm in PAIR_END_PERMS\n",
    "    ])\n",
    "\n",
    "generate_next_rows(set(['1234567']))"
   ]
  },
  {
   "cell_type": "code",
   "execution_count": 91,
   "metadata": {},
   "outputs": [
    {
     "name": "stdout",
     "output_type": "stream",
     "text": [
      "rows reached: 5040\n",
      "furthest rows: {'5162473', '5172436', '5162437', '5132476', '5172463', '5132467'}\n"
     ]
    },
    {
     "data": {
      "text/plain": [
       "[1, 7, 35, 135, 451, 905, 1429, 1443, 629, 6]"
      ]
     },
     "execution_count": 91,
     "metadata": {},
     "output_type": "execute_result"
    }
   ],
   "source": [
    "all_rows = set()\n",
    "rows_per_iteration = [set(['1234567'])]\n",
    "\n",
    "for _ in range(9):\n",
    "    previous_rows = rows_per_iteration[-1]\n",
    "    next_rows = generate_next_rows(previous_rows)\n",
    "    next_rows = next_rows - all_rows  # prune duplicates\n",
    "    rows_per_iteration.append(next_rows)\n",
    "    all_rows = all_rows | next_rows\n",
    "\n",
    "print('rows reached:', len(all_rows))\n",
    "print('furthest rows:', rows_per_iteration[-1])\n",
    "[len(rows) for rows in rows_per_iteration]"
   ]
  },
  {
   "cell_type": "markdown",
   "metadata": {},
   "source": [
    "The result array shows the number of rows reachable at each iteration. We start with rounds, reach 7 rows after the first six-pair, 35 after the second, and then 135 after the third. This shows that:\n",
    "\n",
    "* all 5040 rows are reachable within 9 six-pairs (18 sixes, or slightly over a course)\n",
    "* 6 rows take exactly 9 six-pairs (these are the furthest from rounds)\n",
    "\n",
    "This is a useful result, but we've not quite answered the question. The original problem was to find out how to get to rounds from a particular course end, but we've done the reverse. Luckily we can easily fix this by inverting:"
   ]
  },
  {
   "cell_type": "code",
   "execution_count": 92,
   "metadata": {},
   "outputs": [
    {
     "data": {
      "text/plain": [
       "['2475136', '2465173', '2465137', '2435176', '2475163', '2435167']"
      ]
     },
     "execution_count": 92,
     "metadata": {},
     "output_type": "execute_result"
    }
   ],
   "source": [
    "[\n",
    "    row_from_perm(~perm_from_row(row))\n",
    "    for row in rows_per_iteration[-1]\n",
    "]"
   ]
  },
  {
   "cell_type": "markdown",
   "metadata": {},
   "source": []
  }
 ],
 "metadata": {
  "kernelspec": {
   "display_name": "Python 3",
   "language": "python",
   "name": "python3"
  },
  "language_info": {
   "codemirror_mode": {
    "name": "ipython",
    "version": 3
   },
   "file_extension": ".py",
   "mimetype": "text/x-python",
   "name": "python",
   "nbconvert_exporter": "python",
   "pygments_lexer": "ipython3",
   "version": "3.6.9"
  }
 },
 "nbformat": 4,
 "nbformat_minor": 4
}
