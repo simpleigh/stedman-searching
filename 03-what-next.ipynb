{
 "cells": [
  {
   "cell_type": "markdown",
   "metadata": {},
   "source": [
    "# 03 What next?"
   ]
  },
  {
   "cell_type": "markdown",
   "metadata": {},
   "source": [
    "## Where we are\n",
    "\n",
    "So far we've identified the course ends that are furthest away from rounds. The original problem was actually posed in reverse: it was to find out how to get to rounds from a particular course end. We can solve this by inverting. If $R$ is one of the rows identified then:\n",
    "\n",
    "$$R^{-1} . R = I$$\n",
    "\n",
    "... i.e. if we start at $R^{-1}$ then we reach rounds with the same calling."
   ]
  },
  {
   "cell_type": "code",
   "execution_count": 1,
   "metadata": {},
   "outputs": [
    {
     "data": {
      "text/plain": [
       "['2475136', '2465173', '2465137', '2435176', '2475163', '2435167']"
      ]
     },
     "execution_count": 1,
     "metadata": {},
     "output_type": "execute_result"
    }
   ],
   "source": [
    "from stedman_searching.rows import perm_from_row, row_from_perm\n",
    "\n",
    "[\n",
    "    row_from_perm(~perm_from_row(row))\n",
    "    for row in ['5162473', '5172436', '5162437', '5132476', '5172463', '5132467']\n",
    "]"
   ]
  },
  {
   "cell_type": "markdown",
   "metadata": {},
   "source": [
    "We've missed the original problem specification in some other ways. Here's the original challenge:\n",
    "\n",
    "> Given a particular *course end* (the row at the end of a slow six), what is the shortest calling that can be used to reach rounds? Which course end (or ends) are furthest from rounds?\n",
    "\n",
    "We've ignored the fact that rounds can appear as any one of the twelve rows of a six-pair. The course end `2475136` can be brought round at the first row of a quick six using the calling `pppspp-ppppspp` (i.e. within 14 sixes), for example (and it's likely that a shorter solution is available). I'm going to ignore this additional complexity.\n",
    "\n",
    "The last problem is that we haven't identified the calling required to get between two course ends. This is implicit in the way we have generated the data so let's adapt our system to do this."
   ]
  },
  {
   "cell_type": "markdown",
   "metadata": {},
   "source": [
    "## Storing data as we generate rows\n",
    "\n",
    "Let's create a container that can store additional metadata alongside a row. By overriding Python magic methods we can ignore this metadata when storing the container within a `set` and identifying duplicates."
   ]
  },
  {
   "cell_type": "code",
   "execution_count": 2,
   "metadata": {},
   "outputs": [
    {
     "data": {
      "text/plain": [
       "{SetRow('123', key='value'), SetRow('321')}"
      ]
     },
     "execution_count": 2,
     "metadata": {},
     "output_type": "execute_result"
    }
   ],
   "source": [
    "from stedman_searching.rows import SetRow\n",
    "\n",
    "set([\n",
    "    SetRow('123', key='value'),\n",
    "    SetRow('123', other=42),\n",
    "    SetRow('321'),\n",
    "])"
   ]
  },
  {
   "cell_type": "markdown",
   "metadata": {},
   "source": [
    "Let's adapt our current algorithm to accumulate the calling so far. We can also store the permutation (as well as the row string) in order to eliminate one conversion step."
   ]
  },
  {
   "cell_type": "code",
   "execution_count": 3,
   "metadata": {},
   "outputs": [
    {
     "data": {
      "text/plain": [
       "{SetRow('2453167', calling='--', perm=Permutation(6)(0, 1, 3, 2, 4)),\n",
       " SetRow('2453176', calling='s-', perm=Permutation(0, 1, 3, 2, 4)(5, 6)),\n",
       " SetRow('2456173', calling='-p', perm=Permutation(0, 1, 3, 5, 6, 2, 4)),\n",
       " SetRow('2457163', calling='sp', perm=Permutation(0, 1, 3, 6, 2, 4)),\n",
       " SetRow('2463157', calling='ps', perm=Permutation(6)(0, 1, 3, 2, 5, 4)),\n",
       " SetRow('2463175', calling='p-', perm=Permutation(0, 1, 3, 2, 5, 6, 4)),\n",
       " SetRow('2467153', calling='pp', perm=Permutation(0, 1, 3, 6, 2, 5, 4))}"
      ]
     },
     "execution_count": 3,
     "metadata": {},
     "output_type": "execute_result"
    }
   ],
   "source": [
    "from stedman_searching.rows import perm_for_rounds\n",
    "\n",
    "PAIR_END_TRANSITIONS = [\n",
    "    (perm_from_row('2467153'), 'pp'),\n",
    "    (perm_from_row('2463175'), 'p-'),\n",
    "    (perm_from_row('2463157'), 'ps'),\n",
    "    (perm_from_row('2456173'), '-p'),\n",
    "    (perm_from_row('2453167'), '--'),\n",
    "    (perm_from_row('2457163'), 'sp'),\n",
    "    (perm_from_row('2453176'), 's-'),\n",
    "]\n",
    "\n",
    "def generate_next_row_inner(current_row, pair_end_transition):\n",
    "    pair_end_perm, pair_end_calling = pair_end_transition\n",
    "\n",
    "    next_calling = current_row.calling + pair_end_calling\n",
    "    next_perm = pair_end_perm * current_row.perm\n",
    "\n",
    "    return SetRow(\n",
    "        row_from_perm(next_perm),\n",
    "        calling=next_calling,\n",
    "        perm=next_perm,\n",
    "    )\n",
    "\n",
    "def generate_next_rows(current_rows):\n",
    "    return set([\n",
    "        generate_next_row_inner(current_row, pair_end_transition)\n",
    "        for current_row in current_rows\n",
    "        for pair_end_transition in PAIR_END_TRANSITIONS\n",
    "    ])\n",
    "\n",
    "starting_row = SetRow(\n",
    "    '1234567',\n",
    "    calling='',\n",
    "    perm=perm_for_rounds(6),\n",
    ")\n",
    "\n",
    "generate_next_rows(set([starting_row]))"
   ]
  },
  {
   "cell_type": "code",
   "execution_count": 4,
   "metadata": {},
   "outputs": [
    {
     "data": {
      "text/plain": [
       "{SetRow('5132467', calling='-pp-s-s--psps-sp--', perm=Permutation(6)(0, 4, 3, 1)),\n",
       " SetRow('5132476', calling='s-s-ps--pppp-ps-pp', perm=Permutation(0, 4, 3, 1)(5, 6)),\n",
       " SetRow('5162437', calling='-pp-s-s--psps-spps', perm=Permutation(6)(0, 4, 3, 1)(2, 5)),\n",
       " SetRow('5162473', calling='-pp-s-s--psps-spp-', perm=Permutation(0, 4, 3, 1)(2, 5, 6)),\n",
       " SetRow('5172436', calling='s-s-ps--pppp-ps-sp', perm=Permutation(0, 4, 3, 1)(2, 6, 5)),\n",
       " SetRow('5172463', calling='s-s-pspssp-ps-p--p', perm=Permutation(0, 4, 3, 1)(2, 6))}"
      ]
     },
     "execution_count": 4,
     "metadata": {},
     "output_type": "execute_result"
    }
   ],
   "source": [
    "all_rows = set()\n",
    "rows_per_iteration = [set([starting_row])]\n",
    "\n",
    "for _ in range(9):\n",
    "    current_rows = rows_per_iteration[-1]\n",
    "    next_rows = generate_next_rows(current_rows)\n",
    "    next_rows = next_rows - all_rows  # prune duplicates\n",
    "    rows_per_iteration.append(next_rows)\n",
    "    all_rows = all_rows | next_rows\n",
    "\n",
    "rows_per_iteration[-1]"
   ]
  },
  {
   "cell_type": "markdown",
   "metadata": {},
   "source": [
    "## Working backwards\n",
    "\n",
    "Since our goal is to reach rounds it seems strange that we're working in the opposite direction. Let's fix that now by inverting each transition permutation and assembling the calling in reverse."
   ]
  },
  {
   "cell_type": "code",
   "execution_count": 5,
   "metadata": {},
   "outputs": [
    {
     "data": {
      "text/plain": [
       "{SetRow('2435167', calling='--spps-pspppps-pps', perm=Permutation(6)(0, 1, 3, 4)),\n",
       " SetRow('2435176', calling='s-spps-pspppps-pps', perm=Permutation(0, 1, 3, 4)(5, 6)),\n",
       " SetRow('2465137', calling='pspp-pp-p--ppp-ps-', perm=Permutation(6)(0, 1, 3, 4)(2, 5)),\n",
       " SetRow('2465173', calling='p---ps-pppsppp-ps-', perm=Permutation(0, 1, 3, 4)(2, 5, 6)),\n",
       " SetRow('2475136', calling='pppp-pp-p--ppp-ps-', perm=Permutation(0, 1, 3, 4)(2, 6, 5)),\n",
       " SetRow('2475163', calling='spspps-pspppps-pps', perm=Permutation(0, 1, 3, 4)(2, 6))}"
      ]
     },
     "execution_count": 5,
     "metadata": {},
     "output_type": "execute_result"
    }
   ],
   "source": [
    "PAIR_END_INVERSE_TRANSITIONS = [\n",
    "    (~perm, calling)\n",
    "    for perm, calling in PAIR_END_TRANSITIONS\n",
    "]\n",
    "\n",
    "def generate_previous_row_inner(current_row, pair_end_transition):\n",
    "    pair_end_perm, pair_end_calling = pair_end_transition\n",
    "\n",
    "    previous_calling = pair_end_calling + current_row.calling  # n.b. order\n",
    "    previous_perm = pair_end_perm * current_row.perm\n",
    "\n",
    "    return SetRow(\n",
    "        row_from_perm(previous_perm),\n",
    "        calling=previous_calling,\n",
    "        perm=previous_perm,\n",
    "    )\n",
    "\n",
    "def generate_previous_rows(current_rows):\n",
    "    return set([\n",
    "        generate_previous_row_inner(current_row, pair_end_transition)\n",
    "        for current_row in current_rows\n",
    "        for pair_end_transition in PAIR_END_INVERSE_TRANSITIONS\n",
    "    ])\n",
    "\n",
    "all_rows = set()\n",
    "rows_per_iteration = [set([starting_row])]\n",
    "\n",
    "for _ in range(9):\n",
    "    current_rows = rows_per_iteration[-1]\n",
    "    previous_rows = generate_previous_rows(current_rows)\n",
    "    previous_rows = previous_rows - all_rows  # prune duplicates\n",
    "    rows_per_iteration.append(previous_rows)\n",
    "    all_rows = all_rows | previous_rows\n",
    "\n",
    "rows_per_iteration[-1]"
   ]
  },
  {
   "cell_type": "markdown",
   "metadata": {},
   "source": [
    "We now have a set (`all_rows`) containing every possible course end on seven bells along with a shortest calling to return us to rounds. This will be the shortest calling but it is likely that other callings will exist that were pruned out while identifying duplicates. We can find a calling for any particular row by looking it up in the set.\n",
    "\n",
    "Unfortunately this is awkward to do. Python doesn't provide a way to retrieve an item from a set. If you have the item, after all, why would you need to retrieve it from the set? We need to transfer the rows into another data structure in order to look them up."
   ]
  },
  {
   "cell_type": "code",
   "execution_count": 6,
   "metadata": {},
   "outputs": [
    {
     "data": {
      "text/plain": [
       "'-p-p-ps-'"
      ]
     },
     "execution_count": 6,
     "metadata": {},
     "output_type": "execute_result"
    }
   ],
   "source": [
    "{ row.row: row.calling for row in all_rows }['6423751']"
   ]
  }
 ],
 "metadata": {
  "kernelspec": {
   "display_name": "Python 3",
   "language": "python",
   "name": "python3"
  },
  "language_info": {
   "codemirror_mode": {
    "name": "ipython",
    "version": 3
   },
   "file_extension": ".py",
   "mimetype": "text/x-python",
   "name": "python",
   "nbconvert_exporter": "python",
   "pygments_lexer": "ipython3",
   "version": "3.6.9"
  }
 },
 "nbformat": 4,
 "nbformat_minor": 4
}
