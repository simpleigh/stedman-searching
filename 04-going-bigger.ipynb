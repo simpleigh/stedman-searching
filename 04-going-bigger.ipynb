{
 "cells": [
  {
   "cell_type": "markdown",
   "metadata": {},
   "source": [
    "# 04 Going bigger"
   ]
  },
  {
   "cell_type": "markdown",
   "metadata": {},
   "source": [
    "## Stages\n",
    "\n",
    "So far our analysis has been dedicated to Stedman *Triples* on seven bells. It's possible to ring Stedman on different numbers of bells and Stedman *Cinques*, on eleven bells, is more commonly rung to *peals*<sup>1</sup> each year. The structure of Stedman Cinques is very similar to that of triples: each six the front three bells cycle while the others are fixed, and calls affect the back three bells. With more bells ringing it is harder to devise ways to reach particular course ends and so computer searches become more valuable.\n",
    "\n",
    "Let's go part-way there and extend our solution to Stedman *Caters* on 9 bells.\n",
    "\n",
    "<sup>1</sup> A peal of Stedman Triples must contain all 5,040 possible rows, and takes around three hours to ring. A peal of Stedman Cinques cannot contain all 39,916,800 possible rows so ringers settle for any length over 5,000."
   ]
  },
  {
   "cell_type": "code",
   "execution_count": 1,
   "metadata": {},
   "outputs": [
    {
     "name": "stdout",
     "output_type": "stream",
     "text": [
      "elapsed time: 2.630551680998906\n",
      "rows visited: 76723\n"
     ]
    },
    {
     "data": {
      "text/plain": [
       "[1, 7, 41, 239, 1189, 5238, 18827, 51182]"
      ]
     },
     "execution_count": 1,
     "metadata": {},
     "output_type": "execute_result"
    }
   ],
   "source": [
    "from stedman_searching.profiling import Timer\n",
    "from stedman_searching.rows import perm_for_rounds, perm_from_row, row_from_perm, SetRow\n",
    "\n",
    "\n",
    "PAIR_TRANSITIONS = [\n",
    "    (~perm_from_row('246819375'), 'pp'),\n",
    "    (~perm_from_row('246815397'), 'p-'),\n",
    "    (~perm_from_row('246815379'), 'ps'),\n",
    "    (~perm_from_row('246718395'), '-p'),\n",
    "    (~perm_from_row('246715389'), '--'),\n",
    "    (~perm_from_row('246719385'), 'sp'),\n",
    "    (~perm_from_row('246715398'), 's-'),\n",
    "]\n",
    "\n",
    "STARTING_ROW = SetRow(\n",
    "    '123456789',\n",
    "    calling='',\n",
    "    perm=perm_for_rounds(8),\n",
    ")\n",
    "\n",
    "def generate_previous_row_inner(current_row, pair_transition):\n",
    "    pair_transition_perm, pair_transition_calling = pair_transition\n",
    "\n",
    "    previous_calling = pair_transition_calling + current_row.calling  # n.b. order\n",
    "    previous_perm = pair_transition_perm * current_row.perm\n",
    "\n",
    "    return SetRow(\n",
    "        row_from_perm(previous_perm),\n",
    "        calling=previous_calling,\n",
    "        perm=previous_perm,\n",
    "    )\n",
    "\n",
    "def generate_previous_rows(current_rows):\n",
    "    return set([\n",
    "        generate_previous_row_inner(current_row, pair_transition)\n",
    "        for current_row in current_rows\n",
    "        for pair_transition in PAIR_TRANSITIONS\n",
    "    ])\n",
    "\n",
    "all_rows = set()\n",
    "rows_per_iteration = [set([STARTING_ROW])]\n",
    "\n",
    "timer = Timer()\n",
    "\n",
    "for _ in range(7):\n",
    "    current_rows = rows_per_iteration[-1]\n",
    "    previous_rows = generate_previous_rows(current_rows)\n",
    "    previous_rows = previous_rows - all_rows  # prune duplicates\n",
    "    rows_per_iteration.append(previous_rows)\n",
    "    all_rows = all_rows | previous_rows\n",
    "\n",
    "print('elapsed time:', timer.split())\n",
    "print('rows visited:', len(all_rows))\n",
    "\n",
    "[len(rows) for rows in rows_per_iteration]"
   ]
  },
  {
   "cell_type": "markdown",
   "metadata": {},
   "source": [
    "This seems to work correctly but we have a problem. Increasing the size of the search space has revealed the limits of our algorithm. We have found all rows reachable within fourteen sixes (seven six-pairs) but it has taken us several seconds to do so. A course of Stedman Caters lasts for 18 sixes, so we haven't yet reached the end. Meanwhile we have only reached 76,723 out of 362,880 possible rows: a mere 20%.\n",
    "\n",
    "Running the search to completion produces the following breakdown of distances after nearly a minute:\n",
    "\n",
    "$$[1, 7, 41, 239, 1189, 5238, 18827, 51182, 102266, 127909, 51479, 4479, 24]$$\n",
    "\n",
    "A long search time isn't necessarily an issue if we can store the generated table, but a search taking over a minute is likely to be extremely long if we add two more bells and expand the search space by a factor of 110. Moreover significantly we run into another problem:\n",
    "\n",
    "```\n",
    "MemoryError\n",
    "\n",
    "During handling of the above exception, another exception occurred:\n",
    "\n",
    "MemoryError\n",
    "\n",
    "During handling of the above exception, another exception occurred:\n",
    "\n",
    "Traceback (most recent call last):\n",
    "  File \"main.py\", line 47, in <module>\n",
    "    previous_rows = generate_previous_rows(current_rows)\n",
    "  File \"main.py\", line 36, in generate_previous_rows\n",
    "    for current_row in current_rows\n",
    "MemoryError\n",
    "```"
   ]
  },
  {
   "cell_type": "markdown",
   "metadata": {},
   "source": [
    "## Moving beyond sets\n",
    "\n",
    "We're already pushing the conceptual boundaries of sets by using the `SetRow` class to stash additional data alongside each row. We're also pushing the boundaries of available memory. Let's see how much we need for Stedman Cinques:"
   ]
  },
  {
   "cell_type": "code",
   "execution_count": 2,
   "metadata": {},
   "outputs": [
    {
     "data": {
      "text/plain": [
       "1916006400"
      ]
     },
     "execution_count": 2,
     "metadata": {},
     "output_type": "execute_result"
    }
   ],
   "source": [
    "from math import factorial\n",
    "import sys\n",
    "\n",
    "example_row = SetRow(\n",
    "    '1234567890E',\n",
    "    calling='p' * 18,\n",
    "    perm=perm_for_rounds(10),\n",
    ")\n",
    "\n",
    "sys.getsizeof(example_row) * factorial(11)"
   ]
  },
  {
   "cell_type": "markdown",
   "metadata": {},
   "source": [
    "... i.e. over 2GB. I can throw more resources at the problem (and stop running searches in a small VM!), but that won't solve the timing problem. We need to do something better. In order to identify the rows furthest from rounds let's store that distance: how far away from rounds is each row?\n",
    "\n",
    "I've built a class wrapping a [Numpy](https://numpy.org/doc/) array:"
   ]
  },
  {
   "cell_type": "code",
   "execution_count": 3,
   "metadata": {},
   "outputs": [
    {
     "data": {
      "text/plain": [
       "[15, 1, 3, 5]"
      ]
     },
     "execution_count": 3,
     "metadata": {},
     "output_type": "execute_result"
    }
   ],
   "source": [
    "from stedman_searching.distances_array import DistancesArray\n",
    "\n",
    "# Create an array with space for 4! = 24 rows\n",
    "array = DistancesArray(4)\n",
    "\n",
    "# Add some row distances\n",
    "array.add(0, 2)  # index, distance\n",
    "array.add(1, 4)\n",
    "array.add(2, 4)\n",
    "array.add(3, 4)\n",
    "array.add(4, 6)\n",
    "array.add(5, 6)\n",
    "array.add(6, 6)\n",
    "array.add(7, 6)\n",
    "array.add(8, 6)\n",
    "\n",
    "# Produce a histogram of distances\n",
    "array.get_counts()\n",
    "\n",
    "# 15 of distance 0, 1 of distance 2, 3 of distance 4, 5 of distance 6"
   ]
  },
  {
   "cell_type": "markdown",
   "metadata": {},
   "source": [
    "In order to access an array we need to be use an index. Sympy's [`Permutation`](https://docs.sympy.org/latest/modules/combinatorics/permutations.html) offers three ways to index a row:\n",
    "\n",
    "* `rank()` which determines the _lexicographic_ rank of a row. This is the index of a row within a sorted list of all rows. This is based on assembling a [_Lehmer code_](https://en.wikipedia.org/wiki/Lehmer_code) for the permutation.\n",
    "* `rank_nonlex()` based on [this algorithm](https://webhome.cs.uvic.ca/~ruskey/Publications/RankPerm/MyrvoldRuskey.pdf) which promises linear time performance.\n",
    "* `rank_trotterjohnson()` using the [Steinhaus-Johnson-Trotter algorithm](https://en.wikipedia.org/wiki/Steinhaus%E2%80%93Johnson%E2%80%93Trotter_algorithm)\n",
    "\n",
    "Let's measure which is quickest."
   ]
  },
  {
   "cell_type": "code",
   "execution_count": 4,
   "metadata": {},
   "outputs": [
    {
     "name": "stdout",
     "output_type": "stream",
     "text": [
      "90.8 ms ± 1.42 ms per loop (mean ± std. dev. of 7 runs, 1 loop each)\n"
     ]
    }
   ],
   "source": [
    "%timeit [row.perm.rank() for row in all_rows]"
   ]
  },
  {
   "cell_type": "code",
   "execution_count": 5,
   "metadata": {},
   "outputs": [
    {
     "name": "stdout",
     "output_type": "stream",
     "text": [
      "546 ms ± 4.32 ms per loop (mean ± std. dev. of 7 runs, 1 loop each)\n"
     ]
    }
   ],
   "source": [
    "%timeit [row.perm.rank_nonlex() for row in all_rows]"
   ]
  },
  {
   "cell_type": "code",
   "execution_count": 6,
   "metadata": {},
   "outputs": [
    {
     "name": "stdout",
     "output_type": "stream",
     "text": [
      "611 ms ± 2.84 ms per loop (mean ± std. dev. of 7 runs, 1 loop each)\n"
     ]
    }
   ],
   "source": [
    "%timeit [row.perm.rank_trotterjohnson() for row in all_rows]"
   ]
  }
 ],
 "metadata": {
  "kernelspec": {
   "display_name": "Python 3 (ipykernel)",
   "language": "python",
   "name": "python3"
  },
  "language_info": {
   "codemirror_mode": {
    "name": "ipython",
    "version": 3
   },
   "file_extension": ".py",
   "mimetype": "text/x-python",
   "name": "python",
   "nbconvert_exporter": "python",
   "pygments_lexer": "ipython3",
   "version": "3.10.12"
  }
 },
 "nbformat": 4,
 "nbformat_minor": 4
}
